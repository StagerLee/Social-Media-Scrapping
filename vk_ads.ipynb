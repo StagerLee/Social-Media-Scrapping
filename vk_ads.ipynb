{
  "nbformat": 4,
  "nbformat_minor": 0,
  "metadata": {
    "colab": {
      "provenance": []
    },
    "kernelspec": {
      "name": "python3",
      "display_name": "Python 3"
    },
    "language_info": {
      "name": "python"
    }
  },
  "cells": [
    {
      "cell_type": "code",
      "execution_count": null,
      "metadata": {
        "id": "qd3QW9lN5Iwx"
      },
      "outputs": [],
      "source": [
        "from oauth2client.service_account import ServiceAccountCredentials\n",
        "from pandas import DataFrame\n",
        "import requests\n",
        "import gspread\n",
        "import time\n",
        "import json"
      ]
    },
    {
      "cell_type": "code",
      "source": [
        "token = 'fA51aEAdybkLb0NOiGny62lHkEE4V77aCT'\n",
        "version = 5.131\n",
        "id_rk = 744910016"
      ],
      "metadata": {
        "id": "yfBWGEkI7-5y"
      },
      "execution_count": null,
      "outputs": []
    },
    {
      "cell_type": "code",
      "source": [
        "    response = requests.get(url, params = data)\n"
      ],
      "metadata": {
        "id": "2UG1ac_iv_IS"
      },
      "execution_count": null,
      "outputs": []
    },
    {
      "cell_type": "code",
      "source": [
        "campaign_ids = [] \n",
        "ads_ids = [] \n",
        "response = requests.get('https://api.vk.com/method/ads.getAds', \n",
        "                  params={'access_token': token,     \n",
        "                          'v': version,     \n",
        "                          'account_id': id_rk \n",
        "}) \n",
        "data = response.json()['response']"
      ],
      "metadata": {
        "id": "eVn5Q4HDFa0J"
      },
      "execution_count": null,
      "outputs": []
    },
    {
      "cell_type": "code",
      "source": [
        "campaign_ids = []\n",
        "ads_ids = []\n",
        "r = requests.get('https://api.vk.com/method/ads.getAds', params={\n",
        "    'access_token': token,\n",
        "    'v': version,\n",
        "    'account_id': id_rk\n",
        "})\n",
        "data = r.json()['response']"
      ],
      "metadata": {
        "id": "Q1YU70Zi8Bwx"
      },
      "execution_count": null,
      "outputs": []
    },
    {
      "cell_type": "code",
      "source": [
        "ad_campaign_dict = {}\n",
        "for i in range(len(data)):\n",
        "    ad_campaign_dict[data[i]['id']] = data[i]['campaign_id']"
      ],
      "metadata": {
        "id": "5Cah5PwV8EzZ"
      },
      "execution_count": null,
      "outputs": []
    },
    {
      "cell_type": "code",
      "source": [
        "ads_campaign_list = []\n",
        "ads_id_list = []\n",
        "ads_impressions_list = []\n",
        "ads_clicks_list = []\n",
        "ads_spent_list = []\n",
        "ads_day_start_list = []\n",
        "ads_day_end_list = []"
      ],
      "metadata": {
        "id": "BFuutGHQ8Gux"
      },
      "execution_count": null,
      "outputs": []
    },
    {
      "cell_type": "code",
      "source": [
        "for ad_id in ad_campaign_dict:\n",
        "        r = requests.get('https://api.vk.com/method/ads.getStatistics', params={\n",
        "            'access_token': token,\n",
        "            'v': version,\n",
        "            'account_id': id_rk,\n",
        "            'ids_type': 'ad',\n",
        "            'ids': ad_id,\n",
        "            'period': 'overall',\n",
        "            'date_from': '0',\n",
        "            'date_to': '0'\n",
        "        })\n",
        "        try:\n",
        "            data_stats = r.json()['response']\n",
        "            for i in range(len(data_stats)):\n",
        "                for j in range(len(data_stats[i]['stats'])):\n",
        "                    ads_impressions_list.append(data_stats[i]['stats'][j]['impressions'])\n",
        "                    ads_clicks_list.append(data_stats[i]['stats'][j]['clicks'])\n",
        "                    ads_spent_list.append(data_stats[i]['stats'][j]['spent'])\n",
        "                    ads_day_start_list.append(data_stats[i]['stats'][j]['day_from'])\n",
        "                    ads_day_end_list.append(data_stats[i]['stats'][j]['day_to'])\n",
        "                    ads_id_list.append(data_stats[i]['id'])\n",
        "                    ads_campaign_list.append(ad_campaign_dict[ad_id])\n",
        "        except KeyError:\n",
        "            continue"
      ],
      "metadata": {
        "id": "WiI9H6ko8Jaq"
      },
      "execution_count": null,
      "outputs": []
    },
    {
      "cell_type": "code",
      "source": [
        "df = DataFrame()\n",
        "df['campaign_id'] = ads_campaign_list\n",
        "df['ad_id'] = ads_id_list\n",
        "df['impressions'] = ads_impressions_list\n",
        "df['clicks'] = ads_clicks_list\n",
        "df['spent'] = ads_spent_list\n",
        "df['day_start'] = ads_day_start_list\n",
        "df['day_end'] = ads_day_end_list\n",
        "print(df.head())"
      ],
      "metadata": {
        "id": "jsMUrxg_8LzR"
      },
      "execution_count": null,
      "outputs": []
    }
  ]
}